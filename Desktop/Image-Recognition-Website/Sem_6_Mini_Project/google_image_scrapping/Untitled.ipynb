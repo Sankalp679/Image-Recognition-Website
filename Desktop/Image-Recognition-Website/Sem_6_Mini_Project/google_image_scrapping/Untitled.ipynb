{
 "cells": [
  {
   "cell_type": "code",
   "execution_count": null,
   "metadata": {},
   "outputs": [],
   "source": [
    "!pip install -q jmd_imagescraper\n",
    "\n",
    "cd Colab\\ Notebooks\n",
    "\n",
    "from pathlib import Path\n",
    "root = Path().cwd()/\"model/dataset\"\n",
    "\n",
    "from jmd_imagescraper.core import * \n",
    "\n",
    "duckduckgo_search(root, \"Kaira Advani\", \"kaira advani\", max_results=50)"
   ]
  }
 ],
 "metadata": {
  "kernelspec": {
   "display_name": "Python 3",
   "language": "python",
   "name": "python3"
  },
  "language_info": {
   "codemirror_mode": {
    "name": "ipython",
    "version": 3
   },
   "file_extension": ".py",
   "mimetype": "text/x-python",
   "name": "python",
   "nbconvert_exporter": "python",
   "pygments_lexer": "ipython3",
   "version": "3.7.4"
  }
 },
 "nbformat": 4,
 "nbformat_minor": 2
}
